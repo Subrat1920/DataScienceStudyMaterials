{
 "cells": [
  {
   "cell_type": "code",
   "execution_count": 39,
   "id": "b7770bb4-f31c-4bc1-abfc-a3aecaad6643",
   "metadata": {},
   "outputs": [],
   "source": [
    "from tensorflow.keras.models import Sequential\n",
    "from tensorflow.keras.layers import Dense, Embedding, GRU, Dropout\n",
    "from tensorflow.keras.preprocessing.sequence import pad_sequences\n",
    "from tensorflow.keras.preprocessing.text import Tokenizer\n",
    "import re\n",
    "import numpy as np\n",
    "import pandas as pd"
   ]
  },
  {
   "cell_type": "code",
   "execution_count": 51,
   "id": "b29cfae0-2e52-4a2a-b94e-1e842d87728f",
   "metadata": {},
   "outputs": [],
   "source": [
    "## open the dataset chatbot\n",
    "with open('chatbot.txt', 'r', encoding='utf-8') as file:\n",
    "    text_file = file.read()"
   ]
  },
  {
   "cell_type": "code",
   "execution_count": 54,
   "id": "6ebb914b-153f-4d62-865d-878fc065708a",
   "metadata": {},
   "outputs": [],
   "source": [
    "tokenizer = Tokenizer()\n",
    "tokenizer.fit_on_texts([text_file])"
   ]
  },
  {
   "cell_type": "code",
   "execution_count": 56,
   "id": "f63b7d7d-ab13-44dd-95d8-76a05872be81",
   "metadata": {},
   "outputs": [
    {
     "data": {
      "text/plain": [
       "2735"
      ]
     },
     "execution_count": 56,
     "metadata": {},
     "output_type": "execute_result"
    }
   ],
   "source": [
    "len(tokenizer.word_index)+1"
   ]
  },
  {
   "cell_type": "code",
   "execution_count": null,
   "id": "7a633547-5d01-4b84-96dc-6fc1ef7750ed",
   "metadata": {},
   "outputs": [],
   "source": []
  }
 ],
 "metadata": {
  "kernelspec": {
   "display_name": "Python 3 (ipykernel)",
   "language": "python",
   "name": "python3"
  },
  "language_info": {
   "codemirror_mode": {
    "name": "ipython",
    "version": 3
   },
   "file_extension": ".py",
   "mimetype": "text/x-python",
   "name": "python",
   "nbconvert_exporter": "python",
   "pygments_lexer": "ipython3",
   "version": "3.11.5"
  }
 },
 "nbformat": 4,
 "nbformat_minor": 5
}
