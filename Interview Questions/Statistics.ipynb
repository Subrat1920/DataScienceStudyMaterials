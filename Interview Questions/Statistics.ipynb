{
 "cells": [
  {
   "cell_type": "markdown",
   "id": "068fe65f-d4b1-48fd-8a06-004810dcd731",
   "metadata": {},
   "source": [
    "# Statistic Interview Questions"
   ]
  },
  {
   "cell_type": "markdown",
   "id": "a595dbcb-efeb-4b86-9a93-5b4d5df19852",
   "metadata": {},
   "source": [
    "https://chatgpt.com/share/677d62e0-bf70-8008-b819-226455c95db8"
   ]
  },
  {
   "cell_type": "markdown",
   "id": "b042cf74-d591-4882-b5ef-3b6c9070abc0",
   "metadata": {},
   "source": [
    "## Basic Statistical Concepts"
   ]
  },
  {
   "cell_type": "markdown",
   "id": "fd9a9748-a2f6-486b-b35e-34f2d91118ba",
   "metadata": {},
   "source": [
    "##### 1. What is the difference between population and sample?\n",
    "A 'population' is a set of all the element with common characteristics that are subjected to analysis, while 'sample' is the subset of the population which mimics or represents the whole population.\n",
    "A population is the entire group of individuals or items that you want draw the conclusion about, whereas ta sample is a subset of population that is used to make inference about the population"
   ]
  },
  {
   "cell_type": "markdown",
   "id": "fb10fa7d-2d41-4ebe-9a96-424a71e370bc",
   "metadata": {},
   "source": [
    "##### 2. Explain the central limit theorem (CLT). Why is it important?\n",
    "The Central Limit Theorem states that the mean of the sample population grows/ approaches to normal distribution as the size of the sample population increases regardless the size of the population. This allows us to extract the inferences from the sample aboout the real population."
   ]
  },
  {
   "cell_type": "markdown",
   "id": "0a5ed026-8b22-491b-8a60-4c98303b6d86",
   "metadata": {},
   "source": [
    "##### 3. What is P-Value? How it is interpreted?\n",
    "The P-Value measures the probability of observing a test statistics.\n",
    "It helps us to conclude whether to reject the null-hypothesis or to accept it.\n",
    "A small value (0.05) strongly evident that it against the null hypothesis, but a large value is the evidence to accept the null hypothesis.\n",
    "###### Small value => Reject H0\n",
    "###### Large Value => Accept H0"
   ]
  },
  {
   "cell_type": "markdown",
   "id": "43463ea9-fbbc-45b2-bbff-b2a31aa77aba",
   "metadata": {},
   "source": [
    "##### 4. Define variance and standard deviation. How are they related?\n",
    "###### Variance: \n",
    "The variance helps us to determine how well separated and well distributed is the data. We can say that the varaince is the average sqaured deviation from the mean and the data point.\n",
    "###### Standard Deviation:\n",
    "Standard Deviation is the square root of Variance, giving a measure of spread in the same unit as the data."
   ]
  },
  {
   "cell_type": "markdown",
   "id": "ee50fcb2-574d-42e1-8048-e6bcdb825a08",
   "metadata": {},
   "source": [
    "##### 4. What do you mean by Hypothesis Testing\n",
    "A hypothesis testing is statistical analysis that involves the assumption about the population parameter to determine if they True or False."
   ]
  },
  {
   "cell_type": "markdown",
   "id": "a56b52e3-ae5c-4fcd-bd9e-a2ad6cfaea49",
   "metadata": {},
   "source": [
    "##### 5. What is the difference between Type 1 and Type 2 errors?\n",
    "###### Type 1 Error:\n",
    "Type 1 error is also known as False Positive: This error states to reject the True Null Hypothesis (H0).\n",
    "###### Type 2 Error:\n",
    "Type 2 Error is also known as False Negative: This error states to reject the false Null Hypothesis."
   ]
  },
  {
   "cell_type": "markdown",
   "id": "66b1c2c4-f76a-4dd2-8d2b-15ad7db65207",
   "metadata": {},
   "source": [
    "##### 6. What are mean, median, and mode? When would you use each?\n",
    "###### Mean:\n",
    "Mean states the average of the dataset. It is used in symmetrical data without outliers.\n",
    "###### Median:\n",
    "Median is something that is presents exactly at middle of a sorted data. It is used when data has outliers.\n",
    "###### Mode:\n",
    "Mode gives us the most frequently repeated value over the whole dataset. It is used to replace the null values, when data is categorical or multimodal."
   ]
  },
  {
   "cell_type": "code",
   "execution_count": null,
   "id": "fd3cebeb-9d84-452b-9a7d-68d16c9915b0",
   "metadata": {},
   "outputs": [],
   "source": []
  }
 ],
 "metadata": {
  "kernelspec": {
   "display_name": "Python 3 (ipykernel)",
   "language": "python",
   "name": "python3"
  },
  "language_info": {
   "codemirror_mode": {
    "name": "ipython",
    "version": 3
   },
   "file_extension": ".py",
   "mimetype": "text/x-python",
   "name": "python",
   "nbconvert_exporter": "python",
   "pygments_lexer": "ipython3",
   "version": "3.11.5"
  }
 },
 "nbformat": 4,
 "nbformat_minor": 5
}
