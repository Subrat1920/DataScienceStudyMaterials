{
 "cells": [
  {
   "cell_type": "markdown",
   "id": "6855606c-fc88-4428-8126-d3eb713837ff",
   "metadata": {},
   "source": [
    "## Tokenization"
   ]
  },
  {
   "cell_type": "markdown",
   "id": "eb8743f9-9483-46c3-b953-e84511efee98",
   "metadata": {},
   "source": [
    "### 1. Natural Language Toolkit (nltk)\n",
    "##### NLTK is a leading platform for building Python programs to work with human language data. It provides easy-to-use interfaces to over 50 corpora and lexical resources such as WordNet, along with a suite of text processing libraries for classification, tokenization, stemming, tagging, parsing, and semantic reasoning, wrappers for industrial-strength NLP libraries\n",
    "\n",
    "### 2. spaCy\n",
    "##### spaCy is a modern, open-source natural language processing (NLP) library for Python, designed to provide industrial-strength NLP capabilities. It features:\n",
    "    1. High-performance: spaCy is optimized for speed and efficiency, making it suitable for large-scale NLP applications.\n",
    "    \n",
    "    2. State-of-the-art models: spaCy comes with pre-trained models for tokenization, part-of-speech tagging, dependency parsing, named entity recognition (NER), and more.\n",
    "    \n",
    "    3. Pythonic API: spaCy’s API is designed to be easy to use and integrate with other Python libraries and frameworks."
   ]
  },
  {
   "cell_type": "code",
   "execution_count": 13,
   "id": "0dd185e9-4187-4dce-af42-5a8f944883ca",
   "metadata": {},
   "outputs": [],
   "source": [
    "corpus = '''Hello welcome, My name is Subrat Mishra, I am an aspiring Data Sceintist,having a post-grad (MCA) degree. I am very much interested in developing application, which will help people.\n",
    "'''"
   ]
  },
  {
   "cell_type": "code",
   "execution_count": 14,
   "id": "30b9dd2f-e8cc-484a-a283-abf433cf4224",
   "metadata": {},
   "outputs": [
    {
     "data": {
      "text/plain": [
       "'Hello welcome, My name is Subrat Mishra, I am an aspiring Data Sceintist,having a post-grad (MCA) degree. I am very much interested in developing application, which will help people.\\n'"
      ]
     },
     "execution_count": 14,
     "metadata": {},
     "output_type": "execute_result"
    }
   ],
   "source": [
    "corpus"
   ]
  },
  {
   "cell_type": "code",
   "execution_count": 15,
   "id": "e7cf80b8-fd7c-4cd1-9512-779c2646558b",
   "metadata": {},
   "outputs": [
    {
     "name": "stdout",
     "output_type": "stream",
     "text": [
      "Hello welcome, My name is Subrat Mishra, I am an aspiring Data Sceintist,having a post-grad (MCA) degree. I am very much interested in developing application, which will help people.\n",
      "\n"
     ]
    }
   ],
   "source": [
    "print(corpus)"
   ]
  },
  {
   "cell_type": "code",
   "execution_count": 19,
   "id": "afadc7c5-58c4-4fd6-83cf-8f030bd156ec",
   "metadata": {},
   "outputs": [],
   "source": [
    "## tokenization\n",
    "## convert sentences --> paragraphs\n",
    "from nltk.tokenize import sent_tokenize\n",
    "\n",
    "documents = sent_tokenize(corpus)"
   ]
  },
  {
   "cell_type": "code",
   "execution_count": 22,
   "id": "acaec78d-2813-4dc5-be64-504d48f22f3c",
   "metadata": {},
   "outputs": [
    {
     "name": "stdout",
     "output_type": "stream",
     "text": [
      "Hello welcome, My name is Subrat Mishra, I am an aspiring Data Sceintist,having a post-grad (MCA) degree.\n",
      "I am very much interested in developing application, which will help people.\n"
     ]
    },
    {
     "data": {
      "text/plain": [
       "2"
      ]
     },
     "execution_count": 22,
     "metadata": {},
     "output_type": "execute_result"
    }
   ],
   "source": [
    "for i in documents:\n",
    "    print(i)\n",
    "len(documents)"
   ]
  },
  {
   "cell_type": "code",
   "execution_count": 23,
   "id": "f62de0f6-0176-4dd2-a399-17843f5fb64c",
   "metadata": {},
   "outputs": [
    {
     "data": {
      "text/plain": [
       "['Hello',\n",
       " 'welcome',\n",
       " ',',\n",
       " 'My',\n",
       " 'name',\n",
       " 'is',\n",
       " 'Subrat',\n",
       " 'Mishra',\n",
       " ',',\n",
       " 'I',\n",
       " 'am',\n",
       " 'an',\n",
       " 'aspiring',\n",
       " 'Data',\n",
       " 'Sceintist',\n",
       " ',',\n",
       " 'having',\n",
       " 'a',\n",
       " 'post-grad',\n",
       " '(',\n",
       " 'MCA',\n",
       " ')',\n",
       " 'degree',\n",
       " '.',\n",
       " 'I',\n",
       " 'am',\n",
       " 'very',\n",
       " 'much',\n",
       " 'interested',\n",
       " 'in',\n",
       " 'developing',\n",
       " 'application',\n",
       " ',',\n",
       " 'which',\n",
       " 'will',\n",
       " 'help',\n",
       " 'people',\n",
       " '.']"
      ]
     },
     "execution_count": 23,
     "metadata": {},
     "output_type": "execute_result"
    }
   ],
   "source": [
    "## word tokenization\n",
    "## pargraph --> words\n",
    "## snetence --> words\n",
    "\n",
    "from nltk.tokenize import word_tokenize\n",
    "vocab = word_tokenize(corpus)\n",
    "vocab"
   ]
  },
  {
   "cell_type": "code",
   "execution_count": 24,
   "id": "2c329285-b11a-407a-ab33-28325de9b15b",
   "metadata": {},
   "outputs": [
    {
     "data": {
      "text/plain": [
       "['Hello',\n",
       " 'welcome',\n",
       " ',',\n",
       " 'My',\n",
       " 'name',\n",
       " 'is',\n",
       " 'Subrat',\n",
       " 'Mishra',\n",
       " ',',\n",
       " 'I',\n",
       " 'am',\n",
       " 'an',\n",
       " 'aspiring',\n",
       " 'Data',\n",
       " 'Sceintist',\n",
       " ',',\n",
       " 'having',\n",
       " 'a',\n",
       " 'post',\n",
       " '-',\n",
       " 'grad',\n",
       " '(',\n",
       " 'MCA',\n",
       " ')',\n",
       " 'degree',\n",
       " '.',\n",
       " 'I',\n",
       " 'am',\n",
       " 'very',\n",
       " 'much',\n",
       " 'interested',\n",
       " 'in',\n",
       " 'developing',\n",
       " 'application',\n",
       " ',',\n",
       " 'which',\n",
       " 'will',\n",
       " 'help',\n",
       " 'people',\n",
       " '.']"
      ]
     },
     "execution_count": 24,
     "metadata": {},
     "output_type": "execute_result"
    }
   ],
   "source": [
    "from nltk.tokenize import wordpunct_tokenize\n",
    "wordpunt = wordpunct_tokenize(corpus)\n",
    "wordpunt"
   ]
  },
  {
   "cell_type": "code",
   "execution_count": 29,
   "id": "3e62406e-3fd2-4d25-a8ed-01779f568b69",
   "metadata": {},
   "outputs": [],
   "source": [
    "from nltk.tokenize import TreebankWordTokenizer\n",
    "tokenizer = TreebankWordTokenizer()"
   ]
  },
  {
   "cell_type": "code",
   "execution_count": 30,
   "id": "3143e786-d857-4965-9116-98cdc52ccce1",
   "metadata": {},
   "outputs": [
    {
     "data": {
      "text/plain": [
       "['Hello',\n",
       " 'welcome',\n",
       " ',',\n",
       " 'My',\n",
       " 'name',\n",
       " 'is',\n",
       " 'Subrat',\n",
       " 'Mishra',\n",
       " ',',\n",
       " 'I',\n",
       " 'am',\n",
       " 'an',\n",
       " 'aspiring',\n",
       " 'Data',\n",
       " 'Sceintist',\n",
       " ',',\n",
       " 'having',\n",
       " 'a',\n",
       " 'post-grad',\n",
       " '(',\n",
       " 'MCA',\n",
       " ')',\n",
       " 'degree.',\n",
       " 'I',\n",
       " 'am',\n",
       " 'very',\n",
       " 'much',\n",
       " 'interested',\n",
       " 'in',\n",
       " 'developing',\n",
       " 'application',\n",
       " ',',\n",
       " 'which',\n",
       " 'will',\n",
       " 'help',\n",
       " 'people',\n",
       " '.']"
      ]
     },
     "execution_count": 30,
     "metadata": {},
     "output_type": "execute_result"
    }
   ],
   "source": [
    "tokenizer.tokenize(corpus)"
   ]
  },
  {
   "cell_type": "code",
   "execution_count": null,
   "id": "e98da1a8-fa5a-4dad-8c2c-609129cd4ecf",
   "metadata": {},
   "outputs": [],
   "source": []
  }
 ],
 "metadata": {
  "kernelspec": {
   "display_name": "Python 3 (ipykernel)",
   "language": "python",
   "name": "python3"
  },
  "language_info": {
   "codemirror_mode": {
    "name": "ipython",
    "version": 3
   },
   "file_extension": ".py",
   "mimetype": "text/x-python",
   "name": "python",
   "nbconvert_exporter": "python",
   "pygments_lexer": "ipython3",
   "version": "3.11.5"
  }
 },
 "nbformat": 4,
 "nbformat_minor": 5
}
