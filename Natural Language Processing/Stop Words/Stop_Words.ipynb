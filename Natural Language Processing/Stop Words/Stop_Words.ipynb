{
 "cells": [
  {
   "cell_type": "markdown",
   "id": "04feed62-1f9d-4c68-98c0-8abb8e00fe94",
   "metadata": {},
   "source": [
    "## Stop Words\n",
    "    Stop words are a set of commonly used words in a language that are filtered out or ignored during natural language processing (NLP) tasks, such as text analysis, information retrieval, and text mining. These words are deemed insignificant because they:\n",
    "    1. Carry little to no semantic value or meaning\n",
    "    2. Appear frequently in almost every document or text\n",
    "    3. Do not provide unique information or context\n",
    "##### Examples of stop words in English include:\n",
    "    1. Generic Stopwords: “a”, “and”, “the”, “all”, “do”, “so”, etc.\n",
    "    2. Function Words: prepositions (e.g., “of”, “in”, “on”), conjunctions (e.g., “and”, “but”), articles (e.g., “the”, “a”), auxiliary verbs (e.g., “is”, “are”), etc."
   ]
  },
  {
   "cell_type": "code",
   "execution_count": 46,
   "id": "0dcaa61c-2e36-4fc3-a694-c713c9b65097",
   "metadata": {},
   "outputs": [],
   "source": [
    "## sample paragraph\n",
    "paragraph = '''\n",
    "Hi there, My name is Subrat Mishra, I am a Software Developer, and a aspiring Data Scientist. I am more driven towards Data. My hobby is to develop intellect softwares.\n",
    "'''"
   ]
  },
  {
   "cell_type": "code",
   "execution_count": 29,
   "id": "70fa8299-b581-4239-97b1-fa9e3bff0c62",
   "metadata": {},
   "outputs": [],
   "source": [
    "from nltk.stem import PorterStemmer\n",
    "from nltk.corpus import stopwords"
   ]
  },
  {
   "cell_type": "code",
   "execution_count": 30,
   "id": "57641490-f414-4851-bcf7-6003e4df74ee",
   "metadata": {},
   "outputs": [
    {
     "name": "stderr",
     "output_type": "stream",
     "text": [
      "[nltk_data] Downloading package stopwords to\n",
      "[nltk_data]     C:\\Users\\HP\\AppData\\Roaming\\nltk_data...\n",
      "[nltk_data]   Package stopwords is already up-to-date!\n",
      "[nltk_data] Downloading package punkt to\n",
      "[nltk_data]     C:\\Users\\HP\\AppData\\Roaming\\nltk_data...\n",
      "[nltk_data]   Package punkt is already up-to-date!\n"
     ]
    },
    {
     "data": {
      "text/plain": [
       "True"
      ]
     },
     "execution_count": 30,
     "metadata": {},
     "output_type": "execute_result"
    }
   ],
   "source": [
    "import nltk\n",
    "nltk.download('stopwords')\n",
    "nltk.download('punkt')"
   ]
  },
  {
   "cell_type": "code",
   "execution_count": 31,
   "id": "8f724dd4-0f3a-4b08-92e6-7064a00c1617",
   "metadata": {},
   "outputs": [],
   "source": [
    "stemmer = PorterStemmer()"
   ]
  },
  {
   "cell_type": "code",
   "execution_count": 32,
   "id": "721e8291-4067-41d2-803a-de35cb3076fb",
   "metadata": {},
   "outputs": [],
   "source": [
    "stop_words = set(stopwords.words('english'))"
   ]
  },
  {
   "cell_type": "code",
   "execution_count": 33,
   "id": "befbe8a4-c93c-47a3-9828-2db20d9e30fd",
   "metadata": {},
   "outputs": [],
   "source": [
    "sentences = nltk.sent_tokenize(paragraph)"
   ]
  },
  {
   "cell_type": "code",
   "execution_count": 34,
   "id": "3a8b85cf-1486-4813-8d25-f4b950cefd36",
   "metadata": {},
   "outputs": [
    {
     "data": {
      "text/plain": [
       "['\\nHi there, My name is Subrat Mishra, I am a Software Developer, and a aspiring Data Scientist.',\n",
       " 'I am more driven towards Data.',\n",
       " 'My hobby is to develop intellect softwares.']"
      ]
     },
     "execution_count": 34,
     "metadata": {},
     "output_type": "execute_result"
    }
   ],
   "source": [
    "sentences"
   ]
  },
  {
   "cell_type": "code",
   "execution_count": 35,
   "id": "230e06d9-9102-4f10-9f78-f03e0ba019a4",
   "metadata": {},
   "outputs": [
    {
     "data": {
      "text/plain": [
       "list"
      ]
     },
     "execution_count": 35,
     "metadata": {},
     "output_type": "execute_result"
    }
   ],
   "source": [
    "type(sentences)"
   ]
  },
  {
   "cell_type": "code",
   "execution_count": 36,
   "id": "a73bd48f-63b9-48fe-8e3a-83a15f47f013",
   "metadata": {},
   "outputs": [],
   "source": [
    "## apply stopwords and filter and then apply stemming\n",
    "porter_stemmed_sentences = []\n",
    "for sentence in sentences:\n",
    "    words = nltk.word_tokenize(sentence)  # Tokenize the sentence\n",
    "    words = [stemmer.stem(word) for word in words if word.lower() not in stop_words]\n",
    "    porter_stemmed_sentences.append(' '.join(words))  # Convert the list of words back to a sentence\n"
   ]
  },
  {
   "cell_type": "code",
   "execution_count": 37,
   "id": "bb05ae13-f7fc-4e36-beb4-b0a092309a7e",
   "metadata": {},
   "outputs": [
    {
     "data": {
      "text/plain": [
       "['hi , name subrat mishra , softwar develop , aspir data scientist .',\n",
       " 'driven toward data .',\n",
       " 'hobbi develop intellect softwar .']"
      ]
     },
     "execution_count": 37,
     "metadata": {},
     "output_type": "execute_result"
    }
   ],
   "source": [
    "porter_stemmed_sentences"
   ]
  },
  {
   "cell_type": "code",
   "execution_count": 38,
   "id": "6250d988-b895-42db-8b68-0ff46616ffbc",
   "metadata": {},
   "outputs": [],
   "source": [
    "from nltk.stem import SnowballStemmer"
   ]
  },
  {
   "cell_type": "code",
   "execution_count": 39,
   "id": "6ca32031-f1bb-462a-bc86-ac3e01ee453e",
   "metadata": {},
   "outputs": [],
   "source": [
    "ball = SnowballStemmer(language='english')"
   ]
  },
  {
   "cell_type": "code",
   "execution_count": 40,
   "id": "36b4d5a6-c2ff-4937-9e69-1b9ec229e782",
   "metadata": {},
   "outputs": [],
   "source": [
    "## apply stopwords and filter and then apply snow ball stemming\n",
    "snowball_stemmed_sentences = []\n",
    "for sentence in sentences:\n",
    "    words = nltk.word_tokenize(sentence)  # Tokenize the sentence\n",
    "    words = [ball.stem(word) for word in words if word.lower() not in stop_words]\n",
    "    snowball_stemmed_sentences.append(' '.join(words))  # Convert the list of words back to a sentence\n"
   ]
  },
  {
   "cell_type": "code",
   "execution_count": 41,
   "id": "b3fbeebb-2036-4f39-afef-5c4529dccb4c",
   "metadata": {},
   "outputs": [
    {
     "data": {
      "text/plain": [
       "['hi , name subrat mishra , softwar develop , aspir data scientist .',\n",
       " 'driven toward data .',\n",
       " 'hobbi develop intellect softwar .']"
      ]
     },
     "execution_count": 41,
     "metadata": {},
     "output_type": "execute_result"
    }
   ],
   "source": [
    "snowball_stemmed_sentences"
   ]
  },
  {
   "cell_type": "code",
   "execution_count": 47,
   "id": "5e1051a6-cc2e-4cf2-8c5e-8a45b092ab2a",
   "metadata": {},
   "outputs": [],
   "source": [
    "from nltk.stem import WordNetLemmatizer"
   ]
  },
  {
   "cell_type": "code",
   "execution_count": 48,
   "id": "25e16cbc-0c01-44a5-81fd-abc45c0cb6a6",
   "metadata": {},
   "outputs": [],
   "source": [
    "lemmatizer = WordNetLemmatizer()"
   ]
  },
  {
   "cell_type": "code",
   "execution_count": 51,
   "id": "1ba0fc65-6c3d-4ce3-8d88-01414ef6af59",
   "metadata": {},
   "outputs": [],
   "source": [
    "## apply stopwords and filter and then apply snow ball stemming\n",
    "snowball_lemmatized_sentences = []\n",
    "for sentence in sentences:\n",
    "    sentence = sentence.lower()\n",
    "    words = nltk.word_tokenize(sentence)  # Tokenize the sentence\n",
    "    words = [lemmatizer.lemmatize(word, pos='v') for word in words if word.lower() not in stop_words]\n",
    "    snowball_lemmatized_sentences.append(' '.join(words))  # Convert the list of words back to a sentence\n"
   ]
  },
  {
   "cell_type": "code",
   "execution_count": 52,
   "id": "dd04dbea-258d-4a70-9e3d-24f7494efbfd",
   "metadata": {},
   "outputs": [
    {
     "data": {
      "text/plain": [
       "['hi , name subrat mishra , software developer , aspire data scientist .',\n",
       " 'drive towards data .',\n",
       " 'hobby develop intellect softwares .']"
      ]
     },
     "execution_count": 52,
     "metadata": {},
     "output_type": "execute_result"
    }
   ],
   "source": [
    "snowball_lemmatized_sentences"
   ]
  },
  {
   "cell_type": "code",
   "execution_count": null,
   "id": "d8b1a2fd-7fd9-4129-badf-e43c773b7963",
   "metadata": {},
   "outputs": [],
   "source": []
  }
 ],
 "metadata": {
  "kernelspec": {
   "display_name": "Python 3 (ipykernel)",
   "language": "python",
   "name": "python3"
  },
  "language_info": {
   "codemirror_mode": {
    "name": "ipython",
    "version": 3
   },
   "file_extension": ".py",
   "mimetype": "text/x-python",
   "name": "python",
   "nbconvert_exporter": "python",
   "pygments_lexer": "ipython3",
   "version": "3.11.5"
  }
 },
 "nbformat": 4,
 "nbformat_minor": 5
}
