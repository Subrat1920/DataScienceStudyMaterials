{
 "cells": [
  {
   "cell_type": "markdown",
   "id": "04feed62-1f9d-4c68-98c0-8abb8e00fe94",
   "metadata": {},
   "source": [
    "## Stop Words\n",
    "    Stop words are a set of commonly used words in a language that are filtered out or ignored during natural language processing (NLP) tasks, such as text analysis, information retrieval, and text mining. These words are deemed insignificant because they:\n",
    "    1. Carry little to no semantic value or meaning\n",
    "    2. Appear frequently in almost every document or text\n",
    "    3. Do not provide unique information or context\n",
    "##### Examples of stop words in English include:\n",
    "    1. Generic Stopwords: “a”, “and”, “the”, “all”, “do”, “so”, etc.\n",
    "    2. Function Words: prepositions (e.g., “of”, “in”, “on”), conjunctions (e.g., “and”, “but”), articles (e.g., “the”, “a”), auxiliary verbs (e.g., “is”, “are”), etc."
   ]
  },
  {
   "cell_type": "code",
   "execution_count": 100,
   "id": "0dcaa61c-2e36-4fc3-a694-c713c9b65097",
   "metadata": {},
   "outputs": [],
   "source": [
    "## speech of Dr. Abdul Kalam\n",
    "paragraph = '''\n",
    "I have three visions for India. In 3000 years of our history, people from all over the world have come and invaded us, captured our lands, \n",
    "conquered our minds. From Alexander onwards, the Greeks, the Turks, the Moguls, the Portuguese, the British, the French, the Dutch—all of them came and looted \n",
    "us, took over what was ours. Yet, we have not done this to any other nation. We have not conquered anyone. We have not grabbed their land, their \n",
    "culture, their history, and tried to enforce our way of life on them. Why? Because we respect the freedom of others. That is why my first vision is that of freedom. \n",
    "I believe that India got its first vision of this in  1857, when we started the war of independence. It lasted for 90 years until we finally got our freedom, in 1947. \n",
    "Freedom is the essence of what makes a nation great. I have a second vision for India. Development. For fifty years we have been a developing nation. It is time we see ourselves as a developed nation.\n",
    "We are among the top five nations of the world in terms of GDP. We have a 10% growth rate in most areas. Our poverty levels are falling. Our \n",
    "achievements are being globally recognized today. Yet we lack the self-confidence to see ourselves as a developed nation, self-reliant and \n",
    "self-assured. Isn’t this incorrect? I have a third vision. India must stand up to the world. Because I believe that unless India stands up to the world, no one will respect us. \n",
    "Only strength respects strength. We must be strong not only as a military power but also as an economic power. Both must go hand-in-hand.\n",
    "My good fortune was to have worked with three great minds: Dr. Vikram Sarabhai of the Indian Space Programme, Professor Satish Dhawan, who \n",
    "succeeded him, and Dr. Brahm Prakash, the father of nuclear material. I was lucky to have worked with all of them closely and consider this \n",
    "the great opportunity of my life. Why is the media here so negative? Why are we in India so embarrassed to recognize our own strengths, our achievements? We are such a great nation. \n",
    "We have so many amazing success stories, but we refuse to acknowledge them. Why? We are the first in milk production. We are number one in Remote Sensing Satellites. \n",
    "We are the second-largest producer of wheat and rice. Look at Dr. Sudarshan, he has transferred the tribal village into a self-sustaining, self-driving unit. There are millions of such achievements, \n",
    "but our media is only obsessed with the bad news and failures and disasters.I want to live in a developed India. I want to see India as a nation that is respected worldwide.\n",
    "'''"
   ]
  },
  {
   "cell_type": "code",
   "execution_count": 101,
   "id": "70fa8299-b581-4239-97b1-fa9e3bff0c62",
   "metadata": {},
   "outputs": [],
   "source": [
    "from nltk.stem import PorterStemmer\n",
    "from nltk.corpus import stopwords"
   ]
  },
  {
   "cell_type": "code",
   "execution_count": 102,
   "id": "57641490-f414-4851-bcf7-6003e4df74ee",
   "metadata": {},
   "outputs": [
    {
     "name": "stderr",
     "output_type": "stream",
     "text": [
      "[nltk_data] Downloading package stopwords to\n",
      "[nltk_data]     C:\\Users\\HP\\AppData\\Roaming\\nltk_data...\n",
      "[nltk_data]   Package stopwords is already up-to-date!\n",
      "[nltk_data] Downloading package punkt to\n",
      "[nltk_data]     C:\\Users\\HP\\AppData\\Roaming\\nltk_data...\n",
      "[nltk_data]   Package punkt is already up-to-date!\n"
     ]
    },
    {
     "data": {
      "text/plain": [
       "True"
      ]
     },
     "execution_count": 102,
     "metadata": {},
     "output_type": "execute_result"
    }
   ],
   "source": [
    "import nltk\n",
    "nltk.download('stopwords')\n",
    "nltk.download('punkt')"
   ]
  },
  {
   "cell_type": "code",
   "execution_count": 103,
   "id": "4ae8f629-7ce7-43e1-8df3-886e83a0850d",
   "metadata": {},
   "outputs": [
    {
     "data": {
      "text/plain": [
       "(['i',\n",
       "  'me',\n",
       "  'my',\n",
       "  'myself',\n",
       "  'we',\n",
       "  'our',\n",
       "  'ours',\n",
       "  'ourselves',\n",
       "  'you',\n",
       "  \"you're\",\n",
       "  \"you've\",\n",
       "  \"you'll\",\n",
       "  \"you'd\",\n",
       "  'your',\n",
       "  'yours',\n",
       "  'yourself',\n",
       "  'yourselves',\n",
       "  'he',\n",
       "  'him',\n",
       "  'his',\n",
       "  'himself',\n",
       "  'she',\n",
       "  \"she's\",\n",
       "  'her',\n",
       "  'hers',\n",
       "  'herself',\n",
       "  'it',\n",
       "  \"it's\",\n",
       "  'its',\n",
       "  'itself',\n",
       "  'they',\n",
       "  'them',\n",
       "  'their',\n",
       "  'theirs',\n",
       "  'themselves',\n",
       "  'what',\n",
       "  'which',\n",
       "  'who',\n",
       "  'whom',\n",
       "  'this',\n",
       "  'that',\n",
       "  \"that'll\",\n",
       "  'these',\n",
       "  'those',\n",
       "  'am',\n",
       "  'is',\n",
       "  'are',\n",
       "  'was',\n",
       "  'were',\n",
       "  'be',\n",
       "  'been',\n",
       "  'being',\n",
       "  'have',\n",
       "  'has',\n",
       "  'had',\n",
       "  'having',\n",
       "  'do',\n",
       "  'does',\n",
       "  'did',\n",
       "  'doing',\n",
       "  'a',\n",
       "  'an',\n",
       "  'the',\n",
       "  'and',\n",
       "  'but',\n",
       "  'if',\n",
       "  'or',\n",
       "  'because',\n",
       "  'as',\n",
       "  'until',\n",
       "  'while',\n",
       "  'of',\n",
       "  'at',\n",
       "  'by',\n",
       "  'for',\n",
       "  'with',\n",
       "  'about',\n",
       "  'against',\n",
       "  'between',\n",
       "  'into',\n",
       "  'through',\n",
       "  'during',\n",
       "  'before',\n",
       "  'after',\n",
       "  'above',\n",
       "  'below',\n",
       "  'to',\n",
       "  'from',\n",
       "  'up',\n",
       "  'down',\n",
       "  'in',\n",
       "  'out',\n",
       "  'on',\n",
       "  'off',\n",
       "  'over',\n",
       "  'under',\n",
       "  'again',\n",
       "  'further',\n",
       "  'then',\n",
       "  'once',\n",
       "  'here',\n",
       "  'there',\n",
       "  'when',\n",
       "  'where',\n",
       "  'why',\n",
       "  'how',\n",
       "  'all',\n",
       "  'any',\n",
       "  'both',\n",
       "  'each',\n",
       "  'few',\n",
       "  'more',\n",
       "  'most',\n",
       "  'other',\n",
       "  'some',\n",
       "  'such',\n",
       "  'no',\n",
       "  'nor',\n",
       "  'not',\n",
       "  'only',\n",
       "  'own',\n",
       "  'same',\n",
       "  'so',\n",
       "  'than',\n",
       "  'too',\n",
       "  'very',\n",
       "  's',\n",
       "  't',\n",
       "  'can',\n",
       "  'will',\n",
       "  'just',\n",
       "  'don',\n",
       "  \"don't\",\n",
       "  'should',\n",
       "  \"should've\",\n",
       "  'now',\n",
       "  'd',\n",
       "  'll',\n",
       "  'm',\n",
       "  'o',\n",
       "  're',\n",
       "  've',\n",
       "  'y',\n",
       "  'ain',\n",
       "  'aren',\n",
       "  \"aren't\",\n",
       "  'couldn',\n",
       "  \"couldn't\",\n",
       "  'didn',\n",
       "  \"didn't\",\n",
       "  'doesn',\n",
       "  \"doesn't\",\n",
       "  'hadn',\n",
       "  \"hadn't\",\n",
       "  'hasn',\n",
       "  \"hasn't\",\n",
       "  'haven',\n",
       "  \"haven't\",\n",
       "  'isn',\n",
       "  \"isn't\",\n",
       "  'ma',\n",
       "  'mightn',\n",
       "  \"mightn't\",\n",
       "  'mustn',\n",
       "  \"mustn't\",\n",
       "  'needn',\n",
       "  \"needn't\",\n",
       "  'shan',\n",
       "  \"shan't\",\n",
       "  'shouldn',\n",
       "  \"shouldn't\",\n",
       "  'wasn',\n",
       "  \"wasn't\",\n",
       "  'weren',\n",
       "  \"weren't\",\n",
       "  'won',\n",
       "  \"won't\",\n",
       "  'wouldn',\n",
       "  \"wouldn't\"],\n",
       " 179)"
      ]
     },
     "execution_count": 103,
     "metadata": {},
     "output_type": "execute_result"
    }
   ],
   "source": [
    "stopwords.words('English'), len(stopwords.words('English'))"
   ]
  },
  {
   "cell_type": "code",
   "execution_count": 104,
   "id": "8f724dd4-0f3a-4b08-92e6-7064a00c1617",
   "metadata": {},
   "outputs": [],
   "source": [
    "stemmer = PorterStemmer()"
   ]
  },
  {
   "cell_type": "code",
   "execution_count": 105,
   "id": "721e8291-4067-41d2-803a-de35cb3076fb",
   "metadata": {},
   "outputs": [],
   "source": [
    "stop_words = set(stopwords.words('english'))"
   ]
  },
  {
   "cell_type": "code",
   "execution_count": 106,
   "id": "befbe8a4-c93c-47a3-9828-2db20d9e30fd",
   "metadata": {},
   "outputs": [],
   "source": [
    "sentences = nltk.sent_tokenize(paragraph)"
   ]
  },
  {
   "cell_type": "code",
   "execution_count": 107,
   "id": "3a8b85cf-1486-4813-8d25-f4b950cefd36",
   "metadata": {},
   "outputs": [
    {
     "data": {
      "text/plain": [
       "['\\nI have three visions for India.',\n",
       " 'In 3000 years of our history, people from all over the world have come and invaded us, captured our lands, \\nconquered our minds.',\n",
       " 'From Alexander onwards, the Greeks, the Turks, the Moguls, the Portuguese, the British, the French, the Dutch—all of them came and looted \\nus, took over what was ours.',\n",
       " 'Yet, we have not done this to any other nation.',\n",
       " 'We have not conquered anyone.',\n",
       " 'We have not grabbed their land, their \\nculture, their history, and tried to enforce our way of life on them.',\n",
       " 'Why?',\n",
       " 'Because we respect the freedom of others.',\n",
       " 'That is why my first vision is that of freedom.',\n",
       " 'I believe that India got its first vision of this in  1857, when we started the war of independence.',\n",
       " 'It lasted for 90 years until we finally got our freedom, in 1947.',\n",
       " 'Freedom is the essence of what makes a nation great.',\n",
       " 'I have a second vision for India.',\n",
       " 'Development.',\n",
       " 'For fifty years we have been a developing nation.',\n",
       " 'It is time we see ourselves as a developed nation.',\n",
       " 'We are among the top five nations of the world in terms of GDP.',\n",
       " 'We have a 10% growth rate in most areas.',\n",
       " 'Our poverty levels are falling.',\n",
       " 'Our \\nachievements are being globally recognized today.',\n",
       " 'Yet we lack the self-confidence to see ourselves as a developed nation, self-reliant and \\nself-assured.',\n",
       " 'Isn’t this incorrect?',\n",
       " 'I have a third vision.',\n",
       " 'India must stand up to the world.',\n",
       " 'Because I believe that unless India stands up to the world, no one will respect us.',\n",
       " 'Only strength respects strength.',\n",
       " 'We must be strong not only as a military power but also as an economic power.',\n",
       " 'Both must go hand-in-hand.',\n",
       " 'My good fortune was to have worked with three great minds: Dr. Vikram Sarabhai of the Indian Space Programme, Professor Satish Dhawan, who \\nsucceeded him, and Dr. Brahm Prakash, the father of nuclear material.',\n",
       " 'I was lucky to have worked with all of them closely and consider this \\nthe great opportunity of my life.',\n",
       " 'Why is the media here so negative?',\n",
       " 'Why are we in India so embarrassed to recognize our own strengths, our achievements?',\n",
       " 'We are such a great nation.',\n",
       " 'We have so many amazing success stories, but we refuse to acknowledge them.',\n",
       " 'Why?',\n",
       " 'We are the first in milk production.',\n",
       " 'We are number one in Remote Sensing Satellites.',\n",
       " 'We are the second-largest producer of wheat and rice.',\n",
       " 'Look at Dr. Sudarshan, he has transferred the tribal village into a self-sustaining, self-driving unit.',\n",
       " 'There are millions of such achievements, \\nbut our media is only obsessed with the bad news and failures and disasters.I want to live in a developed India.',\n",
       " 'I want to see India as a nation that is respected worldwide.']"
      ]
     },
     "execution_count": 107,
     "metadata": {},
     "output_type": "execute_result"
    }
   ],
   "source": [
    "sentences"
   ]
  },
  {
   "cell_type": "code",
   "execution_count": 108,
   "id": "230e06d9-9102-4f10-9f78-f03e0ba019a4",
   "metadata": {},
   "outputs": [
    {
     "data": {
      "text/plain": [
       "list"
      ]
     },
     "execution_count": 108,
     "metadata": {},
     "output_type": "execute_result"
    }
   ],
   "source": [
    "type(sentences)"
   ]
  },
  {
   "cell_type": "code",
   "execution_count": 109,
   "id": "a73bd48f-63b9-48fe-8e3a-83a15f47f013",
   "metadata": {},
   "outputs": [],
   "source": [
    "## apply stopwords and filter and then apply stemming\n",
    "porter_stemmed_sentences = []\n",
    "for sentence in sentences:\n",
    "    words = nltk.word_tokenize(sentence)  # Tokenize the sentence\n",
    "    words = [stemmer.stem(word) for word in words if word.lower() not in stop_words]\n",
    "    porter_stemmed_sentences.append(' '.join(words))  # Convert the list of words back to a sentence\n"
   ]
  },
  {
   "cell_type": "code",
   "execution_count": 110,
   "id": "bb05ae13-f7fc-4e36-beb4-b0a092309a7e",
   "metadata": {},
   "outputs": [
    {
     "data": {
      "text/plain": [
       "['three vision india .',\n",
       " '3000 year histori , peopl world come invad us , captur land , conquer mind .',\n",
       " 'alexand onward , greek , turk , mogul , portugues , british , french , dutch—al came loot us , took .',\n",
       " 'yet , done nation .',\n",
       " 'conquer anyon .',\n",
       " 'grab land , cultur , histori , tri enforc way life .',\n",
       " '?',\n",
       " 'respect freedom other .',\n",
       " 'first vision freedom .',\n",
       " 'believ india got first vision 1857 , start war independ .',\n",
       " 'last 90 year final got freedom , 1947 .',\n",
       " 'freedom essenc make nation great .',\n",
       " 'second vision india .',\n",
       " 'develop .',\n",
       " 'fifti year develop nation .',\n",
       " 'time see develop nation .',\n",
       " 'among top five nation world term gdp .',\n",
       " '10 % growth rate area .',\n",
       " 'poverti level fall .',\n",
       " 'achiev global recogn today .',\n",
       " 'yet lack self-confid see develop nation , self-reli self-assur .',\n",
       " '’ incorrect ?',\n",
       " 'third vision .',\n",
       " 'india must stand world .',\n",
       " 'believ unless india stand world , one respect us .',\n",
       " 'strength respect strength .',\n",
       " 'must strong militari power also econom power .',\n",
       " 'must go hand-in-hand .',\n",
       " 'good fortun work three great mind : dr. vikram sarabhai indian space programm , professor satish dhawan , succeed , dr. brahm prakash , father nuclear materi .',\n",
       " 'lucki work close consid great opportun life .',\n",
       " 'media neg ?',\n",
       " 'india embarrass recogn strength , achiev ?',\n",
       " 'great nation .',\n",
       " 'mani amaz success stori , refus acknowledg .',\n",
       " '?',\n",
       " 'first milk product .',\n",
       " 'number one remot sens satellit .',\n",
       " 'second-largest produc wheat rice .',\n",
       " 'look dr. sudarshan , transfer tribal villag self-sustain , self-driv unit .',\n",
       " 'million achiev , media obsess bad news failur disasters.i want live develop india .',\n",
       " 'want see india nation respect worldwid .']"
      ]
     },
     "execution_count": 110,
     "metadata": {},
     "output_type": "execute_result"
    }
   ],
   "source": [
    "porter_stemmed_sentences"
   ]
  },
  {
   "cell_type": "code",
   "execution_count": 111,
   "id": "6250d988-b895-42db-8b68-0ff46616ffbc",
   "metadata": {},
   "outputs": [],
   "source": [
    "from nltk.stem import SnowballStemmer"
   ]
  },
  {
   "cell_type": "code",
   "execution_count": 112,
   "id": "6ca32031-f1bb-462a-bc86-ac3e01ee453e",
   "metadata": {},
   "outputs": [],
   "source": [
    "ball = SnowballStemmer(language='english')"
   ]
  },
  {
   "cell_type": "code",
   "execution_count": 113,
   "id": "36b4d5a6-c2ff-4937-9e69-1b9ec229e782",
   "metadata": {},
   "outputs": [],
   "source": [
    "## apply stopwords and filter and then apply snow ball stemming\n",
    "snowball_stemmed_sentences = []\n",
    "for sentence in sentences:\n",
    "    words = nltk.word_tokenize(sentence)  # Tokenize the sentence\n",
    "    words = [ball.stem(word) for word in words if word.lower() not in stop_words]\n",
    "    snowball_stemmed_sentences.append(' '.join(words))  # Convert the list of words back to a sentence\n"
   ]
  },
  {
   "cell_type": "code",
   "execution_count": 114,
   "id": "b3fbeebb-2036-4f39-afef-5c4529dccb4c",
   "metadata": {},
   "outputs": [
    {
     "data": {
      "text/plain": [
       "['three vision india .',\n",
       " '3000 year histori , peopl world come invad us , captur land , conquer mind .',\n",
       " 'alexand onward , greek , turk , mogul , portugues , british , french , dutch—al came loot us , took .',\n",
       " 'yet , done nation .',\n",
       " 'conquer anyon .',\n",
       " 'grab land , cultur , histori , tri enforc way life .',\n",
       " '?',\n",
       " 'respect freedom other .',\n",
       " 'first vision freedom .',\n",
       " 'believ india got first vision 1857 , start war independ .',\n",
       " 'last 90 year final got freedom , 1947 .',\n",
       " 'freedom essenc make nation great .',\n",
       " 'second vision india .',\n",
       " 'develop .',\n",
       " 'fifti year develop nation .',\n",
       " 'time see develop nation .',\n",
       " 'among top five nation world term gdp .',\n",
       " '10 % growth rate area .',\n",
       " 'poverti level fall .',\n",
       " 'achiev global recogn today .',\n",
       " 'yet lack self-confid see develop nation , self-reli self-assur .',\n",
       " '’ incorrect ?',\n",
       " 'third vision .',\n",
       " 'india must stand world .',\n",
       " 'believ unless india stand world , one respect us .',\n",
       " 'strength respect strength .',\n",
       " 'must strong militari power also econom power .',\n",
       " 'must go hand-in-hand .',\n",
       " 'good fortun work three great mind : dr. vikram sarabhai indian space programm , professor satish dhawan , succeed , dr. brahm prakash , father nuclear materi .',\n",
       " 'lucki work close consid great opportun life .',\n",
       " 'media negat ?',\n",
       " 'india embarrass recogn strength , achiev ?',\n",
       " 'great nation .',\n",
       " 'mani amaz success stori , refus acknowledg .',\n",
       " '?',\n",
       " 'first milk product .',\n",
       " 'number one remot sens satellit .',\n",
       " 'second-largest produc wheat rice .',\n",
       " 'look dr. sudarshan , transfer tribal villag self-sustain , self-driv unit .',\n",
       " 'million achiev , media obsess bad news failur disasters.i want live develop india .',\n",
       " 'want see india nation respect worldwid .']"
      ]
     },
     "execution_count": 114,
     "metadata": {},
     "output_type": "execute_result"
    }
   ],
   "source": [
    "snowball_stemmed_sentences"
   ]
  },
  {
   "cell_type": "code",
   "execution_count": 115,
   "id": "5e1051a6-cc2e-4cf2-8c5e-8a45b092ab2a",
   "metadata": {},
   "outputs": [],
   "source": [
    "from nltk.stem import WordNetLemmatizer"
   ]
  },
  {
   "cell_type": "code",
   "execution_count": 116,
   "id": "25e16cbc-0c01-44a5-81fd-abc45c0cb6a6",
   "metadata": {},
   "outputs": [],
   "source": [
    "lemmatizer = WordNetLemmatizer()"
   ]
  },
  {
   "cell_type": "code",
   "execution_count": 124,
   "id": "1ba0fc65-6c3d-4ce3-8d88-01414ef6af59",
   "metadata": {},
   "outputs": [],
   "source": [
    "## apply stopwords and filter and then apply snow ball stemming\n",
    "snowball_lemmatized_sentences = []\n",
    "for sentence in sentences:\n",
    "    sentence = sentence.lower()\n",
    "    words = nltk.word_tokenize(sentence)  # Tokenize the sentence\n",
    "    words = [lemmatizer.lemmatize(word, pos='v') for word in words if word.lower() not in stop_words]\n",
    "    snowball_lemmatized_sentences.append(' '.join(words))  # Convert the list of words back to a sentence\n"
   ]
  },
  {
   "cell_type": "code",
   "execution_count": 125,
   "id": "dd04dbea-258d-4a70-9e3d-24f7494efbfd",
   "metadata": {},
   "outputs": [
    {
     "data": {
      "text/plain": [
       "['three visions india .',\n",
       " '3000 years history , people world come invade us , capture land , conquer mind .',\n",
       " 'alexander onwards , greeks , turks , moguls , portuguese , british , french , dutch—all come loot us , take .',\n",
       " 'yet , do nation .',\n",
       " 'conquer anyone .',\n",
       " 'grab land , culture , history , try enforce way life .',\n",
       " '?',\n",
       " 'respect freedom others .',\n",
       " 'first vision freedom .',\n",
       " 'believe india get first vision 1857 , start war independence .',\n",
       " 'last 90 years finally get freedom , 1947 .',\n",
       " 'freedom essence make nation great .',\n",
       " 'second vision india .',\n",
       " 'development .',\n",
       " 'fifty years develop nation .',\n",
       " 'time see develop nation .',\n",
       " 'among top five nations world term gdp .',\n",
       " '10 % growth rate areas .',\n",
       " 'poverty level fall .',\n",
       " 'achievements globally recognize today .',\n",
       " 'yet lack self-confidence see develop nation , self-reliant self-assured .',\n",
       " '’ incorrect ?',\n",
       " 'third vision .',\n",
       " 'india must stand world .',\n",
       " 'believe unless india stand world , one respect us .',\n",
       " 'strength respect strength .',\n",
       " 'must strong military power also economic power .',\n",
       " 'must go hand-in-hand .',\n",
       " 'good fortune work three great mind : dr. vikram sarabhai indian space programme , professor satish dhawan , succeed , dr. brahm prakash , father nuclear material .',\n",
       " 'lucky work closely consider great opportunity life .',\n",
       " 'media negative ?',\n",
       " 'india embarrass recognize strengths , achievements ?',\n",
       " 'great nation .',\n",
       " 'many amaze success stories , refuse acknowledge .',\n",
       " '?',\n",
       " 'first milk production .',\n",
       " 'number one remote sense satellite .',\n",
       " 'second-largest producer wheat rice .',\n",
       " 'look dr. sudarshan , transfer tribal village self-sustaining , self-driving unit .',\n",
       " 'millions achievements , media obsess bad news failures disasters.i want live develop india .',\n",
       " 'want see india nation respect worldwide .']"
      ]
     },
     "execution_count": 125,
     "metadata": {},
     "output_type": "execute_result"
    }
   ],
   "source": [
    "snowball_lemmatized_sentences"
   ]
  },
  {
   "cell_type": "code",
   "execution_count": null,
   "id": "775ffcdf-56cb-460c-abb4-1eb0791e9bcb",
   "metadata": {},
   "outputs": [],
   "source": []
  }
 ],
 "metadata": {
  "kernelspec": {
   "display_name": "Python 3 (ipykernel)",
   "language": "python",
   "name": "python3"
  },
  "language_info": {
   "codemirror_mode": {
    "name": "ipython",
    "version": 3
   },
   "file_extension": ".py",
   "mimetype": "text/x-python",
   "name": "python",
   "nbconvert_exporter": "python",
   "pygments_lexer": "ipython3",
   "version": "3.11.5"
  }
 },
 "nbformat": 4,
 "nbformat_minor": 5
}
