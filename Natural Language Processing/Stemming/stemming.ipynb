{
 "cells": [
  {
   "cell_type": "markdown",
   "id": "c1806666-669a-4938-af6f-5232916d3748",
   "metadata": {},
   "source": [
    "## Stemming\n",
    "    Stemming is a text preprocessing technique used in Natural Language Processing (NLP) to reduce words to their root or base form, removing prefixes and suffixes. The primary goal of stemming is to simplify and standardize words, making it easier for NLP models to recognize and process text data."
   ]
  },
  {
   "cell_type": "code",
   "execution_count": 7,
   "id": "f825e367-70d7-48f3-beb2-2ca61c0d32c4",
   "metadata": {},
   "outputs": [],
   "source": [
    "## classification problem\n",
    "## comments of product is a poistive review / negative review\n",
    "## reviews --------> eating, eat, eaten, (here 'eat' is the stem/root word), and \n",
    "##  we can change it to 'eat'\n",
    "## going, goes, gone, (here 'go' is the stem/root word) ---> we can change to 'go'\n",
    "\n",
    "words = ['eating', 'eats', 'eaten', 'writing', 'write', 'writes', 'programming',\n",
    "         'programmer', 'programs', 'finally', 'finalized', 'history']"
   ]
  },
  {
   "cell_type": "markdown",
   "id": "ed84ebc8-1c96-4eea-bb2d-c589eff1e3d7",
   "metadata": {},
   "source": [
    "### PorterStemmer\n",
    "    The Porter Stemmer, also known as the Porter Stemming Algorithm, is a widely used stemming algorithm in Natural Language Processing (NLP). Developed by Martin Porter in the 1980s, it is designed to reduce words to their base or root form, known as the stem, by removing common morphological and inflexional endings.\n",
    "\n",
    "##### How it works\n",
    "    The Porter Stemmer uses a set of predefined rules to identify and remove suffixes from words. These rules are based on the observation that many English suffixes can be broken down into smaller, simpler components. The algorithm iteratively applies these rules to a word, reducing it to its stem."
   ]
  },
  {
   "cell_type": "code",
   "execution_count": 4,
   "id": "b070cc36-2f49-4fe0-8daf-2cb153b598b7",
   "metadata": {},
   "outputs": [],
   "source": [
    "## porterstemmer\n",
    "from nltk.stem import PorterStemmer\n",
    "stemming = PorterStemmer()"
   ]
  },
  {
   "cell_type": "code",
   "execution_count": 8,
   "id": "b006bc80-e094-400b-96e2-ea28e9f3b944",
   "metadata": {},
   "outputs": [
    {
     "name": "stdout",
     "output_type": "stream",
     "text": [
      "eating  ---------->  eat\n",
      "eats  ---------->  eat\n",
      "eaten  ---------->  eaten\n",
      "writing  ---------->  write\n",
      "write  ---------->  write\n",
      "writes  ---------->  write\n",
      "programming  ---------->  program\n",
      "programmer  ---------->  programm\n",
      "programs  ---------->  program\n",
      "finally  ---------->  final\n",
      "finalized  ---------->  final\n",
      "history  ---------->  histori\n"
     ]
    }
   ],
   "source": [
    "for word in words:\n",
    "    print(f'{word}  ---------->  {stemming.stem(word)}')"
   ]
  },
  {
   "cell_type": "code",
   "execution_count": 10,
   "id": "18eaa83a-706f-4ff8-a0c1-63ede2516df3",
   "metadata": {},
   "outputs": [
    {
     "data": {
      "text/plain": [
       "'congratul'"
      ]
     },
     "execution_count": 10,
     "metadata": {},
     "output_type": "execute_result"
    }
   ],
   "source": [
    "stemming.stem('congratulation')"
   ]
  },
  {
   "cell_type": "code",
   "execution_count": 12,
   "id": "fe7983f9-b0a5-45f0-86ba-fc8a09cf106d",
   "metadata": {},
   "outputs": [
    {
     "data": {
      "text/plain": [
       "'sit'"
      ]
     },
     "execution_count": 12,
     "metadata": {},
     "output_type": "execute_result"
    }
   ],
   "source": [
    "stemming.stem('sitting')"
   ]
  },
  {
   "cell_type": "markdown",
   "id": "35886f04-09b2-4d3a-bce9-332dc433e971",
   "metadata": {},
   "source": [
    "##### Disadvantage\n",
    "    It does not give proper meaning of the word sometime."
   ]
  },
  {
   "cell_type": "markdown",
   "id": "48549dbf-f1e3-4460-ae1b-6837b8505b7a",
   "metadata": {},
   "source": [
    "### Regex Stemmer Class\n",
    "    The Regex Stemmer class is a type of stemmer that uses regular expressions to identify and remove morphological affixes from words. It is a part of the NLTK (Natural Language Toolkit) library in Python."
   ]
  },
  {
   "cell_type": "code",
   "execution_count": 1,
   "id": "d4395955-0d2b-44de-acd0-38156e098612",
   "metadata": {},
   "outputs": [],
   "source": [
    "from nltk.stem import RegexpStemmer\n",
    "reg_stemmer = RegexpStemmer('ing$|s$|e$|able$', min=4)"
   ]
  },
  {
   "cell_type": "code",
   "execution_count": 2,
   "id": "abd8c1e9-2b2a-4cc3-a2da-3dd47acd3fc1",
   "metadata": {},
   "outputs": [
    {
     "data": {
      "text/plain": [
       "'eat'"
      ]
     },
     "execution_count": 2,
     "metadata": {},
     "output_type": "execute_result"
    }
   ],
   "source": [
    "reg_stemmer.stem('eating')"
   ]
  },
  {
   "cell_type": "code",
   "execution_count": 3,
   "id": "9f7445b2-d42d-4f4b-a26c-515959cbe7a5",
   "metadata": {},
   "outputs": [
    {
     "data": {
      "text/plain": [
       "'eat'"
      ]
     },
     "execution_count": 3,
     "metadata": {},
     "output_type": "execute_result"
    }
   ],
   "source": [
    "reg_stemmer.stem('eatable')"
   ]
  },
  {
   "cell_type": "code",
   "execution_count": 4,
   "id": "a062a18f-2d78-4958-b356-488b86d28b28",
   "metadata": {},
   "outputs": [
    {
     "data": {
      "text/plain": [
       "'history'"
      ]
     },
     "execution_count": 4,
     "metadata": {},
     "output_type": "execute_result"
    }
   ],
   "source": [
    "reg_stemmer.stem('history')"
   ]
  },
  {
   "cell_type": "code",
   "execution_count": 5,
   "id": "63973b26-0865-4cf0-8e8f-f14f115f4c1b",
   "metadata": {},
   "outputs": [
    {
     "data": {
      "text/plain": [
       "'congratulation'"
      ]
     },
     "execution_count": 5,
     "metadata": {},
     "output_type": "execute_result"
    }
   ],
   "source": [
    "reg_stemmer.stem('congratulations')"
   ]
  },
  {
   "cell_type": "code",
   "execution_count": 8,
   "id": "05baa3d9-6705-4e7d-8151-ca9defd32c46",
   "metadata": {},
   "outputs": [
    {
     "name": "stdout",
     "output_type": "stream",
     "text": [
      "eating  ---------->  eat\n",
      "eats  ---------->  eat\n",
      "eaten  ---------->  eaten\n",
      "writing  ---------->  writ\n",
      "write  ---------->  writ\n",
      "writes  ---------->  write\n",
      "programming  ---------->  programm\n",
      "programmer  ---------->  programmer\n",
      "programs  ---------->  program\n",
      "finally  ---------->  finally\n",
      "finalized  ---------->  finalized\n",
      "history  ---------->  history\n"
     ]
    }
   ],
   "source": [
    "for word in words:\n",
    "    print(f\"{word}  ---------->  {reg_stemmer.stem(word)}\")"
   ]
  },
  {
   "cell_type": "markdown",
   "id": "8d8941cf-bfb6-417c-a605-037830a26cfd",
   "metadata": {},
   "source": [
    "## Snowball Stemmer\n",
    "    The Snowball Stemmer, also known as the Porter2 Stemmer, is a stemming algorithm used in Natural Language Processing (NLP) to reduce words to their base or root form, known as the stem. It is an updated version of the Porter Stemmer, developed by Martin Porter, and designed to handle multiple languages, including English, French, German, Spanish, and others."
   ]
  },
  {
   "cell_type": "code",
   "execution_count": 9,
   "id": "942d7f25-3aac-4ff3-b627-c78e9b078e37",
   "metadata": {},
   "outputs": [],
   "source": [
    "from nltk.stem import SnowballStemmer\n",
    "ball = SnowballStemmer(language = 'english')"
   ]
  },
  {
   "cell_type": "code",
   "execution_count": 10,
   "id": "426b1325-381f-4bde-8f41-5ce62c059232",
   "metadata": {},
   "outputs": [
    {
     "name": "stdout",
     "output_type": "stream",
     "text": [
      "eating   ----------->     eat\n",
      "eats   ----------->     eat\n",
      "eaten   ----------->     eaten\n",
      "writing   ----------->     write\n",
      "write   ----------->     write\n",
      "writes   ----------->     write\n",
      "programming   ----------->     program\n",
      "programmer   ----------->     programm\n",
      "programs   ----------->     program\n",
      "finally   ----------->     final\n",
      "finalized   ----------->     final\n",
      "history   ----------->     histori\n"
     ]
    }
   ],
   "source": [
    "for word in words:\n",
    "    print(f'{word}   ----------->     {ball.stem(word)}')"
   ]
  },
  {
   "cell_type": "code",
   "execution_count": 25,
   "id": "0789ddab-2109-4d9d-8430-64a66f1b7298",
   "metadata": {},
   "outputs": [
    {
     "data": {
      "text/plain": [
       "('fairli', 'sportingli')"
      ]
     },
     "execution_count": 25,
     "metadata": {},
     "output_type": "execute_result"
    }
   ],
   "source": [
    "stemming.stem('fairly'), stemming.stem('sportingly')"
   ]
  },
  {
   "cell_type": "code",
   "execution_count": 26,
   "id": "454b434a-b3d0-4fba-b7d9-b451dacd2100",
   "metadata": {},
   "outputs": [
    {
     "data": {
      "text/plain": [
       "('fair', 'sport')"
      ]
     },
     "execution_count": 26,
     "metadata": {},
     "output_type": "execute_result"
    }
   ],
   "source": [
    "ball.stem('fairly'), ball.stem('sportingly')"
   ]
  },
  {
   "cell_type": "code",
   "execution_count": 28,
   "id": "42c980fe-5c7a-48a2-926a-042ef9225b0a",
   "metadata": {},
   "outputs": [
    {
     "data": {
      "text/plain": [
       "('go', 'goe')"
      ]
     },
     "execution_count": 28,
     "metadata": {},
     "output_type": "execute_result"
    }
   ],
   "source": [
    "ball.stem('going'), ball.stem('goes')"
   ]
  },
  {
   "cell_type": "code",
   "execution_count": 29,
   "id": "26ba7505-1069-4bc3-8d25-e2629480e5ff",
   "metadata": {},
   "outputs": [
    {
     "data": {
      "text/plain": [
       "('go', 'goe')"
      ]
     },
     "execution_count": 29,
     "metadata": {},
     "output_type": "execute_result"
    }
   ],
   "source": [
    "stemming.stem('going'), stemming.stem('goes')"
   ]
  }
 ],
 "metadata": {
  "kernelspec": {
   "display_name": "Python 3 (ipykernel)",
   "language": "python",
   "name": "python3"
  },
  "language_info": {
   "codemirror_mode": {
    "name": "ipython",
    "version": 3
   },
   "file_extension": ".py",
   "mimetype": "text/x-python",
   "name": "python",
   "nbconvert_exporter": "python",
   "pygments_lexer": "ipython3",
   "version": "3.11.5"
  }
 },
 "nbformat": 4,
 "nbformat_minor": 5
}
